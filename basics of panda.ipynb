{
 "cells": [
  {
   "cell_type": "code",
   "execution_count": 24,
   "metadata": {},
   "outputs": [],
   "source": [
    "import pandas as pd"
   ]
  },
  {
   "cell_type": "code",
   "execution_count": 25,
   "metadata": {},
   "outputs": [
    {
     "name": "stdout",
     "output_type": "stream",
     "text": [
      "Original DataFrame:\n",
      "   House ID  Location  Size (sq ft)  Price ($1000s)  Bedrooms  Bathrooms\n",
      "0       101  New York         850.0           220.0         2          1\n",
      "1       102   Chicago         920.0           250.0         3          2\n",
      "2       103    Boston        1100.0           275.0         3          2\n",
      "3       104  New York           NaN           300.0         3          2\n",
      "4       105   Chicago        1250.0             NaN         4          3\n",
      "5       106    Boston        1400.0           360.0         4          3\n"
     ]
    }
   ],
   "source": [
    "# Task 1: Create a DataFrame manually\n",
    "data = {\n",
    "    \"House ID\": [101, 102, 103, 104, 105, 106],\n",
    "    \"Location\": [\"New York\", \"Chicago\", \"Boston\", \"New York\", \"Chicago\", \"Boston\"],\n",
    "    \"Size (sq ft)\": [850, 920, 1100, None, 1250, 1400],  # Missing value in row 4\n",
    "    \"Price ($1000s)\": [220, 250, 275, 300, None, 360],  # Missing value in row 5\n",
    "    \"Bedrooms\": [2, 3, 3, 3, 4, 4],\n",
    "    \"Bathrooms\": [1, 2, 2, 2, 3, 3]\n",
    "}\n",
    "\n",
    "df = pd.DataFrame(data)\n",
    "print(\"Original DataFrame:\")\n",
    "print(df)"
   ]
  },
  {
   "cell_type": "code",
   "execution_count": 26,
   "metadata": {},
   "outputs": [
    {
     "name": "stdout",
     "output_type": "stream",
     "text": [
      "\n",
      "Missing Values Before Cleaning:\n",
      "House ID          0\n",
      "Location          0\n",
      "Size (sq ft)      1\n",
      "Price ($1000s)    1\n",
      "Bedrooms          0\n",
      "Bathrooms         0\n",
      "dtype: int64\n"
     ]
    }
   ],
   "source": [
    "# Task 2: Check for missing values\n",
    "# Check for missing values\n",
    "print(\"\\nMissing Values Before Cleaning:\")\n",
    "print(df.isnull().sum())"
   ]
  },
  {
   "cell_type": "code",
   "execution_count": 27,
   "metadata": {},
   "outputs": [
    {
     "name": "stdout",
     "output_type": "stream",
     "text": [
      "\n",
      "Cleaned DataFrame:\n",
      "   House ID  Location  House_Size  House_Price  Bedrooms  Bathrooms\n",
      "0       101  New York       850.0        220.0         2          1\n",
      "1       102   Chicago       920.0        250.0         3          2\n",
      "2       103    Boston      1100.0        275.0         3          2\n",
      "3       104  New York      1104.0        300.0         3          2\n",
      "4       105   Chicago      1250.0        275.0         4          3\n",
      "5       106    Boston      1400.0        360.0         4          3\n"
     ]
    }
   ],
   "source": [
    "# Fill missing values\n",
    "df = df.copy()  # Ensure modifications apply to the original DataFrame\n",
    "df[\"Size (sq ft)\"] = df[\"Size (sq ft)\"].fillna(df[\"Size (sq ft)\"].mean())\n",
    "df[\"Price ($1000s)\"] = df[\"Price ($1000s)\"].fillna(df[\"Price ($1000s)\"].median())\n",
    "\n",
    "\n",
    "# Rename columns\n",
    "df.rename(columns={\"Size (sq ft)\": \"House_Size\", \"Price ($1000s)\": \"House_Price\"}, inplace=True)\n",
    "\n",
    "# Drop duplicate records (if any)\n",
    "df.drop_duplicates(inplace=True)\n",
    "\n",
    "print(\"\\nCleaned DataFrame:\")\n",
    "print(df)"
   ]
  },
  {
   "cell_type": "code",
   "execution_count": 28,
   "metadata": {},
   "outputs": [
    {
     "name": "stdout",
     "output_type": "stream",
     "text": [
      "\n",
      "Sorted DataFrame (By Price Descending):\n",
      "   House ID  Location  House_Size  House_Price  Bedrooms  Bathrooms\n",
      "5       106    Boston      1400.0        360.0         4          3\n",
      "3       104  New York      1104.0        300.0         3          2\n",
      "2       103    Boston      1100.0        275.0         3          2\n",
      "4       105   Chicago      1250.0        275.0         4          3\n",
      "1       102   Chicago       920.0        250.0         3          2\n",
      "0       101  New York       850.0        220.0         2          1\n",
      "\n",
      "Filtered DataFrame (More than 3 Bedrooms):\n",
      "   House ID Location  House_Size  House_Price  Bedrooms  Bathrooms\n",
      "4       105  Chicago      1250.0        275.0         4          3\n",
      "5       106   Boston      1400.0        360.0         4          3\n"
     ]
    }
   ],
   "source": [
    "# Bonus Challenge\n",
    "\n",
    "# Sort by House Price (Descending Order)\n",
    "df_sorted = df.sort_values(by=\"House_Price\", ascending=False)\n",
    "print(\"\\nSorted DataFrame (By Price Descending):\")\n",
    "print(df_sorted)\n",
    "\n",
    "# Filter houses with more than 3 bedrooms\n",
    "df_filtered = df[df[\"Bedrooms\"] > 3]\n",
    "print(\"\\nFiltered DataFrame (More than 3 Bedrooms):\")\n",
    "print(df_filtered)"
   ]
  },
  {
   "cell_type": "code",
   "execution_count": null,
   "metadata": {},
   "outputs": [],
   "source": []
  }
 ],
 "metadata": {
  "kernelspec": {
   "display_name": "Python 3",
   "language": "python",
   "name": "python3"
  },
  "language_info": {
   "codemirror_mode": {
    "name": "ipython",
    "version": 3
   },
   "file_extension": ".py",
   "mimetype": "text/x-python",
   "name": "python",
   "nbconvert_exporter": "python",
   "pygments_lexer": "ipython3",
   "version": "3.12.4"
  }
 },
 "nbformat": 4,
 "nbformat_minor": 2
}
